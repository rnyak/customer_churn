{
 "cells": [
  {
   "cell_type": "code",
   "execution_count": 65,
   "metadata": {
    "collapsed": true
   },
   "outputs": [],
   "source": [
    "%matplotlib inline\n",
    "import numpy as np # a package is for scientific computing\n",
    "import scipy # open-source software for mathematics, science, and engineering (higher level than numpy)\n",
    "import sklearn # machine learning package\n",
    "import matplotlib as mpl\n",
    "import matplotlib.pyplot as plt # plotting tools\n",
    "import seaborn as sns # nicer plot defaults\n",
    "import pandas as pd # for making easy-to-use data structures\n",
    "import pickle\n",
    "from sklearn.externals import joblib\n",
    "from matplotlib.pyplot import pie, bar,axis, show\n",
    "from sklearn.preprocessing import LabelEncoder"
   ]
  },
  {
   "cell_type": "code",
   "execution_count": 107,
   "metadata": {},
   "outputs": [
    {
     "data": {
      "text/html": [
       "<div>\n",
       "<style>\n",
       "    .dataframe thead tr:only-child th {\n",
       "        text-align: right;\n",
       "    }\n",
       "\n",
       "    .dataframe thead th {\n",
       "        text-align: left;\n",
       "    }\n",
       "\n",
       "    .dataframe tbody tr th {\n",
       "        vertical-align: top;\n",
       "    }\n",
       "</style>\n",
       "<table border=\"1\" class=\"dataframe\">\n",
       "  <thead>\n",
       "    <tr style=\"text-align: right;\">\n",
       "      <th></th>\n",
       "      <th>custid</th>\n",
       "      <th>gender</th>\n",
       "      <th>marital</th>\n",
       "      <th>edustat</th>\n",
       "      <th>jobtype</th>\n",
       "      <th>income</th>\n",
       "      <th>age</th>\n",
       "      <th>inacl1m</th>\n",
       "      <th>inacl2m</th>\n",
       "      <th>inacl3m</th>\n",
       "      <th>inac3m</th>\n",
       "      <th>inacfull</th>\n",
       "    </tr>\n",
       "  </thead>\n",
       "  <tbody>\n",
       "    <tr>\n",
       "      <th>0</th>\n",
       "      <td>18438542</td>\n",
       "      <td>F</td>\n",
       "      <td>MARRIED</td>\n",
       "      <td>COLLEGE</td>\n",
       "      <td>PRIVATE SECTOR</td>\n",
       "      <td>1860.0</td>\n",
       "      <td>45</td>\n",
       "      <td>False</td>\n",
       "      <td>False</td>\n",
       "      <td>False</td>\n",
       "      <td>False</td>\n",
       "      <td>False</td>\n",
       "    </tr>\n",
       "    <tr>\n",
       "      <th>1</th>\n",
       "      <td>19225464</td>\n",
       "      <td>M</td>\n",
       "      <td>SINGLE</td>\n",
       "      <td>COLLEGE</td>\n",
       "      <td>PRIVATE SECTOR</td>\n",
       "      <td>1494.0</td>\n",
       "      <td>31</td>\n",
       "      <td>False</td>\n",
       "      <td>False</td>\n",
       "      <td>False</td>\n",
       "      <td>False</td>\n",
       "      <td>False</td>\n",
       "    </tr>\n",
       "    <tr>\n",
       "      <th>2</th>\n",
       "      <td>19379348</td>\n",
       "      <td>M</td>\n",
       "      <td>SINGLE</td>\n",
       "      <td>UNIVERSITY</td>\n",
       "      <td>PRIVATE SECTOR</td>\n",
       "      <td>2000.0</td>\n",
       "      <td>43</td>\n",
       "      <td>True</td>\n",
       "      <td>True</td>\n",
       "      <td>True</td>\n",
       "      <td>True</td>\n",
       "      <td>True</td>\n",
       "    </tr>\n",
       "    <tr>\n",
       "      <th>3</th>\n",
       "      <td>22580189</td>\n",
       "      <td>F</td>\n",
       "      <td>SINGLE</td>\n",
       "      <td>COLLEGE</td>\n",
       "      <td>PRIVATE SECTOR</td>\n",
       "      <td>816.0</td>\n",
       "      <td>37</td>\n",
       "      <td>False</td>\n",
       "      <td>False</td>\n",
       "      <td>False</td>\n",
       "      <td>False</td>\n",
       "      <td>False</td>\n",
       "    </tr>\n",
       "    <tr>\n",
       "      <th>4</th>\n",
       "      <td>24172775</td>\n",
       "      <td>M</td>\n",
       "      <td>MARRIED</td>\n",
       "      <td>UNIVERSITY</td>\n",
       "      <td>PUBLIC SECTOR</td>\n",
       "      <td>3500.0</td>\n",
       "      <td>27</td>\n",
       "      <td>False</td>\n",
       "      <td>False</td>\n",
       "      <td>False</td>\n",
       "      <td>False</td>\n",
       "      <td>False</td>\n",
       "    </tr>\n",
       "  </tbody>\n",
       "</table>\n",
       "</div>"
      ],
      "text/plain": [
       "     custid gender  marital     edustat         jobtype  income  age  inacl1m  \\\n",
       "0  18438542      F  MARRIED     COLLEGE  PRIVATE SECTOR  1860.0   45    False   \n",
       "1  19225464      M   SINGLE     COLLEGE  PRIVATE SECTOR  1494.0   31    False   \n",
       "2  19379348      M   SINGLE  UNIVERSITY  PRIVATE SECTOR  2000.0   43     True   \n",
       "3  22580189      F   SINGLE     COLLEGE  PRIVATE SECTOR   816.0   37    False   \n",
       "4  24172775      M  MARRIED  UNIVERSITY   PUBLIC SECTOR  3500.0   27    False   \n",
       "\n",
       "   inacl2m  inacl3m  inac3m  inacfull  \n",
       "0    False    False   False     False  \n",
       "1    False    False   False     False  \n",
       "2     True     True    True      True  \n",
       "3    False    False   False     False  \n",
       "4    False    False   False     False  "
      ]
     },
     "execution_count": 107,
     "metadata": {},
     "output_type": "execute_result"
    }
   ],
   "source": [
    "#import customer demog data\n",
    "cust_demog = pd.read_csv('../data_churn1/cust_demog.csv')\n",
    "\n",
    "#replace NaN values with the median of the income\n",
    "cust_demog.income =cust_demog['income'].fillna(float(2000))\n",
    "cust_demog.head(5)"
   ]
  },
  {
   "cell_type": "code",
   "execution_count": 108,
   "metadata": {},
   "outputs": [
    {
     "data": {
      "text/html": [
       "<div>\n",
       "<style>\n",
       "    .dataframe thead tr:only-child th {\n",
       "        text-align: right;\n",
       "    }\n",
       "\n",
       "    .dataframe thead th {\n",
       "        text-align: left;\n",
       "    }\n",
       "\n",
       "    .dataframe tbody tr th {\n",
       "        vertical-align: top;\n",
       "    }\n",
       "</style>\n",
       "<table border=\"1\" class=\"dataframe\">\n",
       "  <thead>\n",
       "    <tr style=\"text-align: right;\">\n",
       "      <th></th>\n",
       "      <th>custid</th>\n",
       "      <th>gender</th>\n",
       "      <th>marital</th>\n",
       "      <th>edustat</th>\n",
       "      <th>jobtype</th>\n",
       "      <th>income</th>\n",
       "      <th>age</th>\n",
       "      <th>inacl1m</th>\n",
       "      <th>inacl2m</th>\n",
       "      <th>inacl3m</th>\n",
       "      <th>inac3m</th>\n",
       "      <th>inacfull</th>\n",
       "    </tr>\n",
       "  </thead>\n",
       "  <tbody>\n",
       "    <tr>\n",
       "      <th>0</th>\n",
       "      <td>18438542</td>\n",
       "      <td>0</td>\n",
       "      <td>2</td>\n",
       "      <td>0</td>\n",
       "      <td>4</td>\n",
       "      <td>1860.0</td>\n",
       "      <td>45</td>\n",
       "      <td>0</td>\n",
       "      <td>0</td>\n",
       "      <td>0</td>\n",
       "      <td>0</td>\n",
       "      <td>0</td>\n",
       "    </tr>\n",
       "    <tr>\n",
       "      <th>1</th>\n",
       "      <td>19225464</td>\n",
       "      <td>1</td>\n",
       "      <td>3</td>\n",
       "      <td>0</td>\n",
       "      <td>4</td>\n",
       "      <td>1494.0</td>\n",
       "      <td>31</td>\n",
       "      <td>0</td>\n",
       "      <td>0</td>\n",
       "      <td>0</td>\n",
       "      <td>0</td>\n",
       "      <td>0</td>\n",
       "    </tr>\n",
       "    <tr>\n",
       "      <th>2</th>\n",
       "      <td>19379348</td>\n",
       "      <td>1</td>\n",
       "      <td>3</td>\n",
       "      <td>7</td>\n",
       "      <td>4</td>\n",
       "      <td>2000.0</td>\n",
       "      <td>43</td>\n",
       "      <td>1</td>\n",
       "      <td>1</td>\n",
       "      <td>1</td>\n",
       "      <td>1</td>\n",
       "      <td>1</td>\n",
       "    </tr>\n",
       "    <tr>\n",
       "      <th>3</th>\n",
       "      <td>22580189</td>\n",
       "      <td>0</td>\n",
       "      <td>3</td>\n",
       "      <td>0</td>\n",
       "      <td>4</td>\n",
       "      <td>816.0</td>\n",
       "      <td>37</td>\n",
       "      <td>0</td>\n",
       "      <td>0</td>\n",
       "      <td>0</td>\n",
       "      <td>0</td>\n",
       "      <td>0</td>\n",
       "    </tr>\n",
       "    <tr>\n",
       "      <th>4</th>\n",
       "      <td>24172775</td>\n",
       "      <td>1</td>\n",
       "      <td>2</td>\n",
       "      <td>7</td>\n",
       "      <td>5</td>\n",
       "      <td>3500.0</td>\n",
       "      <td>27</td>\n",
       "      <td>0</td>\n",
       "      <td>0</td>\n",
       "      <td>0</td>\n",
       "      <td>0</td>\n",
       "      <td>0</td>\n",
       "    </tr>\n",
       "  </tbody>\n",
       "</table>\n",
       "</div>"
      ],
      "text/plain": [
       "     custid  gender  marital  edustat  jobtype  income  age  inacl1m  inacl2m  \\\n",
       "0  18438542       0        2        0        4  1860.0   45        0        0   \n",
       "1  19225464       1        3        0        4  1494.0   31        0        0   \n",
       "2  19379348       1        3        7        4  2000.0   43        1        1   \n",
       "3  22580189       0        3        0        4   816.0   37        0        0   \n",
       "4  24172775       1        2        7        5  3500.0   27        0        0   \n",
       "\n",
       "   inacl3m  inac3m  inacfull  \n",
       "0        0       0         0  \n",
       "1        0       0         0  \n",
       "2        1       1         1  \n",
       "3        0       0         0  \n",
       "4        0       0         0  "
      ]
     },
     "execution_count": 108,
     "metadata": {},
     "output_type": "execute_result"
    }
   ],
   "source": [
    "# encode categogies as numeric values\n",
    "lb_make = LabelEncoder()\n",
    "cust_demog[\"inacfull\"] = lb_make.fit_transform(cust_demog[\"inacfull\"])\n",
    "cust_demog['gender']=lb_make.fit_transform(cust_demog[\"gender\"])\n",
    "cust_demog[\"jobtype\"] = lb_make.fit_transform(cust_demog[\"jobtype\"])\n",
    "cust_demog['edustat']=lb_make.fit_transform(cust_demog[\"edustat\"])\n",
    "cust_demog['marital']=lb_make.fit_transform(cust_demog[\"marital\"])\n",
    "cust_demog['inacl1m']=lb_make.fit_transform(cust_demog[\"inacl1m\"])\n",
    "cust_demog['inacl2m']=lb_make.fit_transform(cust_demog[\"inacl2m\"])\n",
    "cust_demog['inacl3m']=lb_make.fit_transform(cust_demog[\"inacl3m\"])\n",
    "cust_demog['inac3m']=lb_make.fit_transform(cust_demog[\"inac3m\"])\n",
    "cust_demog.head(5)"
   ]
  },
  {
   "cell_type": "code",
   "execution_count": 109,
   "metadata": {
    "collapsed": true
   },
   "outputs": [],
   "source": [
    "# change categoricals data type as 'category'\n",
    "cust_demog[\"gender\"] = cust_demog[\"gender\"].astype('category') \n",
    "cust_demog[\"marital\"] = cust_demog[\"marital\"].astype('category') \n",
    "cust_demog[\"edustat\"] = cust_demog[\"edustat\"].astype('category') \n",
    "cust_demog[\"jobtype\"] = cust_demog[\"jobtype\"].astype('category') \n",
    "cust_demog[\"inacfull\"] = cust_demog[\"inacfull\"].astype('category') \n",
    "cust_demog[\"inacl1m\"] = cust_demog[\"inacl1m\"].astype('category') \n",
    "cust_demog[\"inacl2m\"] = cust_demog[\"inacl2m\"].astype('category') \n",
    "cust_demog[\"inacl3m\"] = cust_demog[\"inacl3m\"].astype('category') \n",
    "cust_demog[\"inac3m\"] = cust_demog[\"inac3m\"].astype('category') \n"
   ]
  },
  {
   "cell_type": "code",
   "execution_count": 117,
   "metadata": {},
   "outputs": [],
   "source": [
    "#randomly split data as training and testing sets\n",
    "from sklearn.model_selection import train_test_split\n",
    "\n",
    "X = cust_demog.iloc[:,1:11]\n",
    "y = cust_demog.inacfull\n",
    "\n",
    "X_train, X_test, y_train, y_test = train_test_split(X, y, train_size=0.7, test_size = 0.3, random_state=1)"
   ]
  },
  {
   "cell_type": "code",
   "execution_count": 5,
   "metadata": {},
   "outputs": [
    {
     "ename": "NameError",
     "evalue": "name 'X_train' is not defined",
     "output_type": "error",
     "traceback": [
      "\u001b[0;31m---------------------------------------------------------------------------\u001b[0m",
      "\u001b[0;31mNameError\u001b[0m                                 Traceback (most recent call last)",
      "\u001b[0;32m<ipython-input-5-ca65933dce6e>\u001b[0m in \u001b[0;36m<module>\u001b[0;34m()\u001b[0m\n\u001b[0;32m----> 1\u001b[0;31m \u001b[0mX_train\u001b[0m\u001b[0;34m.\u001b[0m\u001b[0mto_pickle\u001b[0m\u001b[0;34m(\u001b[0m\u001b[0;34m'X_tr.pkl'\u001b[0m\u001b[0;34m)\u001b[0m\u001b[0;34m\u001b[0m\u001b[0m\n\u001b[0m\u001b[1;32m      2\u001b[0m \u001b[0mX_test\u001b[0m\u001b[0;34m.\u001b[0m\u001b[0mto_pickle\u001b[0m\u001b[0;34m(\u001b[0m\u001b[0;34m'X_ts_.pkl'\u001b[0m\u001b[0;34m)\u001b[0m\u001b[0;34m\u001b[0m\u001b[0m\n\u001b[1;32m      3\u001b[0m \u001b[0my_train\u001b[0m\u001b[0;34m.\u001b[0m\u001b[0mto_pickle\u001b[0m\u001b[0;34m(\u001b[0m\u001b[0;34m'y_tr.pkl'\u001b[0m\u001b[0;34m)\u001b[0m\u001b[0;34m\u001b[0m\u001b[0m\n\u001b[1;32m      4\u001b[0m \u001b[0my_test\u001b[0m\u001b[0;34m.\u001b[0m\u001b[0mto_pickle\u001b[0m\u001b[0;34m(\u001b[0m\u001b[0;34m'y_ts.pkl'\u001b[0m\u001b[0;34m)\u001b[0m\u001b[0;34m\u001b[0m\u001b[0m\n",
      "\u001b[0;31mNameError\u001b[0m: name 'X_train' is not defined"
     ]
    }
   ],
   "source": [
    "#Pickle the training and testing datasets \n",
    "X_train.to_pickle('X_tr.pkl')\n",
    "X_test.to_pickle('X_ts_.pkl')\n",
    "y_train.to_pickle('y_tr.pkl')\n",
    "y_test.to_pickle('y_ts.pkl')"
   ]
  },
  {
   "cell_type": "code",
   "execution_count": 112,
   "metadata": {
    "collapsed": true
   },
   "outputs": [],
   "source": [
    "X_tr= joblib.load('X_tr.pkl') \n",
    "y_tr=joblib.load('y_tr.pkl')\n",
    "X_test=joblib.load('X_ts_.pkl')\n",
    "y_test=joblib.load('y_ts.pkl')"
   ]
  },
  {
   "cell_type": "code",
   "execution_count": 113,
   "metadata": {},
   "outputs": [
    {
     "name": "stdout",
     "output_type": "stream",
     "text": [
      "((30363, 10), (30363,), (13014, 10), (13014,))\n"
     ]
    }
   ],
   "source": [
    "print(X_tr.shape, y_tr.shape, X_test.shape, y_test.shape)"
   ]
  },
  {
   "cell_type": "code",
   "execution_count": 11,
   "metadata": {},
   "outputs": [
    {
     "name": "stderr",
     "output_type": "stream",
     "text": [
      "/home/rna1/anaconda2/envs/myprojects_env/lib/python2.7/site-packages/sklearn/utils/deprecation.py:77: DeprecationWarning: Function _ratio_float is deprecated; Use a float for 'ratio' is deprecated from version 0.2. The support will be removed in 0.4. Use a dict, str, or a callable instead.\n",
      "  warnings.warn(msg, category=DeprecationWarning)\n"
     ]
    }
   ],
   "source": [
    "#over sample the minority class using SMOTE\n",
    "from imblearn.over_sampling import SMOTE \n",
    "from imblearn import under_sampling, over_sampling\n",
    "sm = SMOTE(random_state=1, ratio = 0.25)\n",
    "x_tr_res, y_tr_res = sm.fit_sample(X_tr, y_tr)"
   ]
  },
  {
   "cell_type": "code",
   "execution_count": null,
   "metadata": {
    "collapsed": true
   },
   "outputs": [],
   "source": [
    "print y_tr.value_counts(), np.bincount(y_tr_res),y_tr_res.shape, x_tr_res.shape"
   ]
  },
  {
   "cell_type": "code",
   "execution_count": 111,
   "metadata": {},
   "outputs": [
    {
     "ename": "NameError",
     "evalue": "name 'x_tr_res' is not defined",
     "output_type": "error",
     "traceback": [
      "\u001b[0;31m---------------------------------------------------------------------------\u001b[0m",
      "\u001b[0;31mNameError\u001b[0m                                 Traceback (most recent call last)",
      "\u001b[0;32m<ipython-input-111-b4386393a36e>\u001b[0m in \u001b[0;36m<module>\u001b[0;34m()\u001b[0m\n\u001b[0;32m----> 1\u001b[0;31m \u001b[0mjoblib\u001b[0m\u001b[0;34m.\u001b[0m\u001b[0mdump\u001b[0m\u001b[0;34m(\u001b[0m\u001b[0mx_tr_res\u001b[0m\u001b[0;34m,\u001b[0m \u001b[0;34m'x_tr_res.pkl'\u001b[0m\u001b[0;34m)\u001b[0m\u001b[0;34m\u001b[0m\u001b[0m\n\u001b[0m\u001b[1;32m      2\u001b[0m \u001b[0mjoblib\u001b[0m\u001b[0;34m.\u001b[0m\u001b[0mdump\u001b[0m\u001b[0;34m(\u001b[0m\u001b[0my_tr_res\u001b[0m\u001b[0;34m,\u001b[0m\u001b[0;34m'y_tr_res.pkl'\u001b[0m\u001b[0;34m)\u001b[0m\u001b[0;34m\u001b[0m\u001b[0m\n\u001b[1;32m      3\u001b[0m \u001b[0;32mprint\u001b[0m \u001b[0my_tr\u001b[0m\u001b[0;34m.\u001b[0m\u001b[0mvalue_counts\u001b[0m\u001b[0;34m(\u001b[0m\u001b[0;34m)\u001b[0m\u001b[0;34m,\u001b[0m \u001b[0mnp\u001b[0m\u001b[0;34m.\u001b[0m\u001b[0mbincount\u001b[0m\u001b[0;34m(\u001b[0m\u001b[0my_tr_res\u001b[0m\u001b[0;34m)\u001b[0m\u001b[0;34m,\u001b[0m\u001b[0my_tr_res\u001b[0m\u001b[0;34m.\u001b[0m\u001b[0mshape\u001b[0m\u001b[0;34m,\u001b[0m \u001b[0mx_tr_res\u001b[0m\u001b[0;34m.\u001b[0m\u001b[0mshape\u001b[0m\u001b[0;34m\u001b[0m\u001b[0m\n",
      "\u001b[0;31mNameError\u001b[0m: name 'x_tr_res' is not defined"
     ]
    }
   ],
   "source": [
    "joblib.dump(x_tr_res, 'x_tr_res.pkl') \n",
    "joblib.dump(y_tr_res,'y_tr_res.pkl')"
   ]
  },
  {
   "cell_type": "code",
   "execution_count": 114,
   "metadata": {
    "collapsed": true
   },
   "outputs": [],
   "source": [
    "X_tr =joblib.load('x_tr_res.pkl') \n",
    "y_tr =joblib.load('y_tr_res.pkl')"
   ]
  },
  {
   "cell_type": "code",
   "execution_count": 27,
   "metadata": {},
   "outputs": [
    {
     "data": {
      "text/plain": [
       "DecisionTreeClassifier(class_weight=None, criterion='gini', max_depth=9,\n",
       "            max_features=None, max_leaf_nodes=None,\n",
       "            min_impurity_decrease=0.0, min_impurity_split=None,\n",
       "            min_samples_leaf=1, min_samples_split=2,\n",
       "            min_weight_fraction_leaf=0.0, presort=False, random_state=0,\n",
       "            splitter='best')"
      ]
     },
     "execution_count": 27,
     "metadata": {},
     "output_type": "execute_result"
    }
   ],
   "source": [
    "from sklearn.model_selection import cross_val_score\n",
    "from sklearn.tree import DecisionTreeClassifier\n",
    "model = DecisionTreeClassifier(random_state=0, max_depth=9)\n",
    "model.fit(X_tr, y_tr)\n"
   ]
  },
  {
   "cell_type": "code",
   "execution_count": 78,
   "metadata": {},
   "outputs": [
    {
     "data": {
      "text/plain": [
       "['pred_churn.pkl']"
      ]
     },
     "execution_count": 78,
     "metadata": {},
     "output_type": "execute_result"
    }
   ],
   "source": [
    "#pickle the fitted Decision tree model\n",
    "pred_churn= pickle.dumps(model)\n",
    "joblib.dump(model, 'pred_churn.pkl') \n",
    "# to load the model model = joblib.load('filename.pkl') "
   ]
  },
  {
   "cell_type": "code",
   "execution_count": 3,
   "metadata": {},
   "outputs": [
    {
     "data": {
      "text/plain": [
       "0.98985707699400649"
      ]
     },
     "execution_count": 3,
     "metadata": {},
     "output_type": "execute_result"
    }
   ],
   "source": [
    "model = joblib.load('pred_churn.pkl') \n",
    "#perform prediction with test set\n",
    "y_test_pred = model.predict(X_test)\n",
    "\n",
    "from sklearn.metrics import accuracy_score\n",
    "\n",
    "accuracy_score(y_test, y_test_pred)"
   ]
  },
  {
   "cell_type": "code",
   "execution_count": 22,
   "metadata": {},
   "outputs": [
    {
     "name": "stdout",
     "output_type": "stream",
     "text": [
      "['gender' 'marital' 'edustat' 'jobtype' 'income' 'age' 'inacl1m' 'inacl2m'\n",
      " 'inacl3m' 'inac3m']\n"
     ]
    }
   ],
   "source": [
    "Xvar= X_test.columns.values\n",
    "print(Xvar)"
   ]
  },
  {
   "cell_type": "code",
   "execution_count": 6,
   "metadata": {
    "collapsed": true
   },
   "outputs": [],
   "source": [
    "with open(\"churn_classifier.txt\", \"w\") as f:\n",
    "    f = tree.export_graphviz(model, out_file=f)"
   ]
  },
  {
   "cell_type": "code",
   "execution_count": 62,
   "metadata": {},
   "outputs": [
    {
     "name": "stdout",
     "output_type": "stream",
     "text": [
      "[0]\n"
     ]
    }
   ],
   "source": [
    "y_test_pred = model.predict(X_test.iloc[0:1,:])\n",
    "print(y_test_pred)"
   ]
  },
  {
   "cell_type": "code",
   "execution_count": 63,
   "metadata": {},
   "outputs": [
    {
     "data": {
      "text/plain": [
       "array([[ 1.,  0.]])"
      ]
     },
     "execution_count": 63,
     "metadata": {},
     "output_type": "execute_result"
    }
   ],
   "source": [
    "proba=model.predict_proba(X_test.iloc[0:1,:])\n",
    "proba"
   ]
  },
  {
   "cell_type": "code",
   "execution_count": 17,
   "metadata": {},
   "outputs": [
    {
     "name": "stdout",
     "output_type": "stream",
     "text": [
      "Feature ranking:\n",
      "1. feature 8 (0.902662)\n",
      "('feature name: ', 'inacl3m')\n",
      "2. feature 5 (0.031856)\n",
      "('feature name: ', 'age')\n",
      "3. feature 4 (0.029247)\n",
      "('feature name: ', 'income')\n",
      "4. feature 2 (0.017642)\n",
      "('feature name: ', 'edustat')\n",
      "5. feature 3 (0.009182)\n",
      "('feature name: ', 'jobtype')\n",
      "6. feature 0 (0.005923)\n",
      "('feature name: ', 'gender')\n",
      "7. feature 1 (0.003487)\n",
      "('feature name: ', 'marital')\n"
     ]
    }
   ],
   "source": [
    "from sklearn.datasets import make_classification\n",
    "from sklearn.ensemble import ExtraTreesClassifier\n",
    "\n",
    "importances = model.feature_importances_\n",
    "# std = np.std([tree.feature_importances_ for tree in model.],\n",
    "#              axis=0)\n",
    "indices = np.argsort(importances)[::-1]\n",
    "terms= X_test.columns.values\n",
    "# Print the feature ranking\n",
    "print(\"Feature ranking:\")\n",
    "for f in range(X_test.shape[1]):\n",
    "    if importances[indices[f]] > 0:\n",
    "        print(\"%d. feature %d (%f)\" % (f + 1, indices[f], importances[indices[f]]))\n",
    "        print (\"feature name: \", terms[indices[f]])"
   ]
  },
  {
   "cell_type": "code",
   "execution_count": 11,
   "metadata": {
    "scrolled": true
   },
   "outputs": [
    {
     "name": "stdout",
     "output_type": "stream",
     "text": [
      "                Predicted Not churn  Predicted churn\n",
      "True Not churn                12631              103\n",
      "True churn                       29              251\n"
     ]
    }
   ],
   "source": [
    "#check confusion matrix\n",
    "from sklearn.metrics import confusion_matrix\n",
    "\n",
    "cf = pd.DataFrame(\n",
    "    confusion_matrix(y_test, y_test_pred),\n",
    "    columns=['Predicted Not churn', 'Predicted churn'],\n",
    "    index=['True Not churn', 'True churn']\n",
    ")\n",
    "print(cf)"
   ]
  },
  {
   "cell_type": "code",
   "execution_count": 18,
   "metadata": {},
   "outputs": [
    {
     "data": {
      "text/html": [
       "<div>\n",
       "<style>\n",
       "    .dataframe thead tr:only-child th {\n",
       "        text-align: right;\n",
       "    }\n",
       "\n",
       "    .dataframe thead th {\n",
       "        text-align: left;\n",
       "    }\n",
       "\n",
       "    .dataframe tbody tr th {\n",
       "        vertical-align: top;\n",
       "    }\n",
       "</style>\n",
       "<table border=\"1\" class=\"dataframe\">\n",
       "  <thead>\n",
       "    <tr style=\"text-align: right;\">\n",
       "      <th></th>\n",
       "      <th>cust_id</th>\n",
       "      <th>trans_date</th>\n",
       "      <th>tot_amount</th>\n",
       "      <th>tot_number</th>\n",
       "    </tr>\n",
       "  </thead>\n",
       "  <tbody>\n",
       "    <tr>\n",
       "      <th>0</th>\n",
       "      <td>20897469</td>\n",
       "      <td>26-Oct-14</td>\n",
       "      <td>226.5</td>\n",
       "      <td>3</td>\n",
       "    </tr>\n",
       "    <tr>\n",
       "      <th>1</th>\n",
       "      <td>8596362</td>\n",
       "      <td>9-Mar-15</td>\n",
       "      <td>96.0</td>\n",
       "      <td>1</td>\n",
       "    </tr>\n",
       "    <tr>\n",
       "      <th>2</th>\n",
       "      <td>21319463</td>\n",
       "      <td>16-Apr-15</td>\n",
       "      <td>30.1</td>\n",
       "      <td>1</td>\n",
       "    </tr>\n",
       "    <tr>\n",
       "      <th>3</th>\n",
       "      <td>7540825</td>\n",
       "      <td>16-Apr-15</td>\n",
       "      <td>34.5</td>\n",
       "      <td>1</td>\n",
       "    </tr>\n",
       "    <tr>\n",
       "      <th>4</th>\n",
       "      <td>14799757</td>\n",
       "      <td>4-May-15</td>\n",
       "      <td>191.0</td>\n",
       "      <td>1</td>\n",
       "    </tr>\n",
       "  </tbody>\n",
       "</table>\n",
       "</div>"
      ],
      "text/plain": [
       "    cust_id trans_date  tot_amount  tot_number\n",
       "0  20897469  26-Oct-14       226.5           3\n",
       "1   8596362   9-Mar-15        96.0           1\n",
       "2  21319463  16-Apr-15        30.1           1\n",
       "3   7540825  16-Apr-15        34.5           1\n",
       "4  14799757   4-May-15       191.0           1"
      ]
     },
     "execution_count": 18,
     "metadata": {},
     "output_type": "execute_result"
    }
   ],
   "source": [
    "#import the automatic payments data\n",
    "aut_payment = pd.read_csv('../data_churn1/aut_trans.csv')\n",
    "aut_payment.head()"
   ]
  },
  {
   "cell_type": "code",
   "execution_count": 19,
   "metadata": {},
   "outputs": [
    {
     "data": {
      "text/html": [
       "<div>\n",
       "<style>\n",
       "    .dataframe thead tr:only-child th {\n",
       "        text-align: right;\n",
       "    }\n",
       "\n",
       "    .dataframe thead th {\n",
       "        text-align: left;\n",
       "    }\n",
       "\n",
       "    .dataframe tbody tr th {\n",
       "        vertical-align: top;\n",
       "    }\n",
       "</style>\n",
       "<table border=\"1\" class=\"dataframe\">\n",
       "  <thead>\n",
       "    <tr style=\"text-align: right;\">\n",
       "      <th></th>\n",
       "      <th>custid</th>\n",
       "      <th>trans_date</th>\n",
       "      <th>tot_amount</th>\n",
       "      <th>tot_num</th>\n",
       "    </tr>\n",
       "  </thead>\n",
       "  <tbody>\n",
       "    <tr>\n",
       "      <th>0</th>\n",
       "      <td>20897469</td>\n",
       "      <td>2014-10-26</td>\n",
       "      <td>226.5</td>\n",
       "      <td>3</td>\n",
       "    </tr>\n",
       "    <tr>\n",
       "      <th>1</th>\n",
       "      <td>8596362</td>\n",
       "      <td>2015-03-09</td>\n",
       "      <td>96.0</td>\n",
       "      <td>1</td>\n",
       "    </tr>\n",
       "    <tr>\n",
       "      <th>2</th>\n",
       "      <td>21319463</td>\n",
       "      <td>2015-04-16</td>\n",
       "      <td>30.1</td>\n",
       "      <td>1</td>\n",
       "    </tr>\n",
       "    <tr>\n",
       "      <th>3</th>\n",
       "      <td>7540825</td>\n",
       "      <td>2015-04-16</td>\n",
       "      <td>34.5</td>\n",
       "      <td>1</td>\n",
       "    </tr>\n",
       "    <tr>\n",
       "      <th>4</th>\n",
       "      <td>14799757</td>\n",
       "      <td>2015-05-04</td>\n",
       "      <td>191.0</td>\n",
       "      <td>1</td>\n",
       "    </tr>\n",
       "  </tbody>\n",
       "</table>\n",
       "</div>"
      ],
      "text/plain": [
       "     custid trans_date  tot_amount  tot_num\n",
       "0  20897469 2014-10-26       226.5        3\n",
       "1   8596362 2015-03-09        96.0        1\n",
       "2  21319463 2015-04-16        30.1        1\n",
       "3   7540825 2015-04-16        34.5        1\n",
       "4  14799757 2015-05-04       191.0        1"
      ]
     },
     "execution_count": 19,
     "metadata": {},
     "output_type": "execute_result"
    }
   ],
   "source": [
    "#convert the tran_date column to datetime type\n",
    "aut_payment['trans_date'] = pd.to_datetime(aut_payment['trans_date'])\n",
    "aut_payment.rename(columns={'cust_id': 'custid', 'tot_number': 'tot_num'}, inplace=True)\n"
   ]
  },
  {
   "cell_type": "code",
   "execution_count": 20,
   "metadata": {},
   "outputs": [
    {
     "data": {
      "text/plain": [
       "['aut_payment.pkl']"
      ]
     },
     "execution_count": 20,
     "metadata": {},
     "output_type": "execute_result"
    }
   ],
   "source": [
    "joblib.dump(aut_payment,'aut_payment.pkl')"
   ]
  },
  {
   "cell_type": "code",
   "execution_count": 23,
   "metadata": {},
   "outputs": [
    {
     "data": {
      "text/plain": [
       "custid                 int64\n",
       "trans_date    datetime64[ns]\n",
       "tot_amount           float64\n",
       "tot_num                int64\n",
       "dtype: object"
      ]
     },
     "execution_count": 23,
     "metadata": {},
     "output_type": "execute_result"
    }
   ],
   "source": [
    "aut_payment =joblib.load('aut_payment.pkl')\n",
    "aut_payment.dtypes"
   ]
  },
  {
   "cell_type": "code",
   "execution_count": 111,
   "metadata": {},
   "outputs": [
    {
     "data": {
      "text/html": [
       "<div>\n",
       "<style>\n",
       "    .dataframe thead tr:only-child th {\n",
       "        text-align: right;\n",
       "    }\n",
       "\n",
       "    .dataframe thead th {\n",
       "        text-align: left;\n",
       "    }\n",
       "\n",
       "    .dataframe tbody tr th {\n",
       "        vertical-align: top;\n",
       "    }\n",
       "</style>\n",
       "<table border=\"1\" class=\"dataframe\">\n",
       "  <thead>\n",
       "    <tr style=\"text-align: right;\">\n",
       "      <th></th>\n",
       "      <th>custid</th>\n",
       "      <th>tot_amount</th>\n",
       "      <th>tot_num</th>\n",
       "    </tr>\n",
       "  </thead>\n",
       "  <tbody>\n",
       "    <tr>\n",
       "      <th>0</th>\n",
       "      <td>1587995</td>\n",
       "      <td>27.00</td>\n",
       "      <td>1</td>\n",
       "    </tr>\n",
       "    <tr>\n",
       "      <th>1</th>\n",
       "      <td>1592653</td>\n",
       "      <td>306.10</td>\n",
       "      <td>7</td>\n",
       "    </tr>\n",
       "    <tr>\n",
       "      <th>2</th>\n",
       "      <td>1608485</td>\n",
       "      <td>67.70</td>\n",
       "      <td>1</td>\n",
       "    </tr>\n",
       "    <tr>\n",
       "      <th>3</th>\n",
       "      <td>1623599</td>\n",
       "      <td>608.40</td>\n",
       "      <td>11</td>\n",
       "    </tr>\n",
       "    <tr>\n",
       "      <th>4</th>\n",
       "      <td>1719473</td>\n",
       "      <td>212.80</td>\n",
       "      <td>2</td>\n",
       "    </tr>\n",
       "    <tr>\n",
       "      <th>5</th>\n",
       "      <td>1747077</td>\n",
       "      <td>8.00</td>\n",
       "      <td>1</td>\n",
       "    </tr>\n",
       "    <tr>\n",
       "      <th>6</th>\n",
       "      <td>1754081</td>\n",
       "      <td>233.80</td>\n",
       "      <td>2</td>\n",
       "    </tr>\n",
       "    <tr>\n",
       "      <th>7</th>\n",
       "      <td>1760330</td>\n",
       "      <td>75.40</td>\n",
       "      <td>1</td>\n",
       "    </tr>\n",
       "    <tr>\n",
       "      <th>8</th>\n",
       "      <td>1763718</td>\n",
       "      <td>466.80</td>\n",
       "      <td>15</td>\n",
       "    </tr>\n",
       "    <tr>\n",
       "      <th>9</th>\n",
       "      <td>1783498</td>\n",
       "      <td>335.20</td>\n",
       "      <td>8</td>\n",
       "    </tr>\n",
       "    <tr>\n",
       "      <th>10</th>\n",
       "      <td>1789143</td>\n",
       "      <td>75.00</td>\n",
       "      <td>1</td>\n",
       "    </tr>\n",
       "    <tr>\n",
       "      <th>11</th>\n",
       "      <td>1804993</td>\n",
       "      <td>115.63</td>\n",
       "      <td>4</td>\n",
       "    </tr>\n",
       "    <tr>\n",
       "      <th>12</th>\n",
       "      <td>1835619</td>\n",
       "      <td>86.10</td>\n",
       "      <td>2</td>\n",
       "    </tr>\n",
       "    <tr>\n",
       "      <th>13</th>\n",
       "      <td>1846997</td>\n",
       "      <td>206.80</td>\n",
       "      <td>4</td>\n",
       "    </tr>\n",
       "    <tr>\n",
       "      <th>14</th>\n",
       "      <td>1855685</td>\n",
       "      <td>50.75</td>\n",
       "      <td>1</td>\n",
       "    </tr>\n",
       "  </tbody>\n",
       "</table>\n",
       "</div>"
      ],
      "text/plain": [
       "     custid  tot_amount tot_num\n",
       "0   1587995       27.00       1\n",
       "1   1592653      306.10       7\n",
       "2   1608485       67.70       1\n",
       "3   1623599      608.40      11\n",
       "4   1719473      212.80       2\n",
       "5   1747077        8.00       1\n",
       "6   1754081      233.80       2\n",
       "7   1760330       75.40       1\n",
       "8   1763718      466.80      15\n",
       "9   1783498      335.20       8\n",
       "10  1789143       75.00       1\n",
       "11  1804993      115.63       4\n",
       "12  1835619       86.10       2\n",
       "13  1846997      206.80       4\n",
       "14  1855685       50.75       1"
      ]
     },
     "execution_count": 111,
     "metadata": {},
     "output_type": "execute_result"
    }
   ],
   "source": [
    "from datetime import date, timedelta\n",
    "import datetime\n",
    "\n",
    "startdate = aut_payment.trans_date.min()\n",
    "end=aut_payment.trans_date.max()\n",
    "\n",
    "sub_aut_payment=pd.DataFrame(columns=[u'custid', u'tot_amount', u'tot_num'])\n",
    "for k in range(1,3):\n",
    "    if k == 12:\n",
    "        endate = end\n",
    "    else:\n",
    "        enddate = startdate + timedelta(days=30*k)\n",
    "    \n",
    "    mask = (aut_payment['trans_date'] >=startdate) & (aut_payment['trans_date'] <= enddate)\n",
    "    sub= aut_payment.loc[mask]\n",
    "    sub2 =sub.groupby(['custid'], as_index=False).sum()\n",
    "    #print(sub.loc[sub['custid'] ==1592653])\n",
    "    startdate=enddate \n",
    "    #print(sub2)\n",
    "    sub_aut_payment = sub_aut_payment.append(sub2, ignore_index=True)\n",
    "sub_aut_payment.head(15)"
   ]
  },
  {
   "cell_type": "code",
   "execution_count": 113,
   "metadata": {},
   "outputs": [
    {
     "data": {
      "text/plain": [
       "(9876, 3)"
      ]
     },
     "execution_count": 113,
     "metadata": {},
     "output_type": "execute_result"
    }
   ],
   "source": [
    "sub_aut_payment.shape"
   ]
  },
  {
   "cell_type": "code",
   "execution_count": 13,
   "metadata": {},
   "outputs": [
    {
     "data": {
      "image/png": "[encoded data removed]",
      "text/plain": [
       "<matplotlib.figure.Figure at 0x7f2b296ea710>"
      ]
     },
     "metadata": {},
     "output_type": "display_data"
    }
   ],
   "source": [
    "def plot_confusion_matrix(cm, ylabel, xlabel):\n",
    "  plt.figure()\n",
    "  cmap = plt.cm.Blues\n",
    "  plt.imshow(cm, interpolation='nearest', cmap=cmap)\n",
    "  plt.title('Normalized Confusion Matrix', fontsize=16)\n",
    "  plt.colorbar()\n",
    "  for (i, j), z in np.ndenumerate(cm):\n",
    "    plt.text(j, i, '{:0.1f}'.format(z), ha='center', va='center')\n",
    "# write cm values on grid\n",
    "  tick_labels = ['no churn', 'churn']\n",
    "  tick_marks = np.arange(len(tick_labels))\n",
    "  plt.xticks(tick_marks, tick_labels, rotation=45)\n",
    "  plt.yticks(tick_marks, tick_labels)\n",
    "  plt.tight_layout()\n",
    "  plt.ylabel(ylabel, fontsize=16)\n",
    "  plt.xlabel(xlabel, fontsize=16)\n",
    "\n",
    "#here's how you input to the function:\n",
    "plot_confusion_matrix(cf, 'True Label', 'Predicted Label')"
   ]
  },
  {
   "cell_type": "code",
   "execution_count": 46,
   "metadata": {},
   "outputs": [
    {
     "data": {
      "text/plain": [
       "(0.70903954802259883, 0.89642857142857146, 0.79179810725552047, None)"
      ]
     },
     "execution_count": 46,
     "metadata": {},
     "output_type": "execute_result"
    }
   ],
   "source": [
    "from sklearn.metrics import precision_recall_fscore_support\n",
    "precision, tp_rate, f_beta, pos_label = precision_recall_fscore_support(y_test, y_test_pred, average='binary')\n",
    "precision, tp_rate, f_beta, pos_label\n",
    "# tp_rate= recall\n",
    "#If pos_label is None, this function returns the average precision"
   ]
  },
  {
   "cell_type": "code",
   "execution_count": 14,
   "metadata": {
    "collapsed": true
   },
   "outputs": [],
   "source": [
    "# # from mlxtend.plotting import plot_confusion_matrix\n",
    "# import os\n",
    "# binary = np.array(cf)\n",
    "\n",
    "# # fig, ax = plot_confusion_matrix(conf_mat=binary)\n",
    "# # plt.show()\n",
    "\n",
    "      \n",
    "# df_cm = pd.DataFrame(binary, range(2),range(2))\n",
    "# #plt.figure(figsize = (10,7))\n",
    "# ax = plt.axes()\n",
    "# sns.set(font_scale=1.4)#for label size\n",
    "# sns.heatmap(df_cm, annot=True,annot_kws={\"size\": 16}, ax = ax)# font size\n",
    "\n",
    "# ax.set_title('confusion matrix')\n",
    "# plt.show()"
   ]
  },
  {
   "cell_type": "code",
   "execution_count": 8,
   "metadata": {},
   "outputs": [
    {
     "data": {
      "text/html": [
       "<div>\n",
       "<style>\n",
       "    .dataframe thead tr:only-child th {\n",
       "        text-align: right;\n",
       "    }\n",
       "\n",
       "    .dataframe thead th {\n",
       "        text-align: left;\n",
       "    }\n",
       "\n",
       "    .dataframe tbody tr th {\n",
       "        vertical-align: top;\n",
       "    }\n",
       "</style>\n",
       "<table border=\"1\" class=\"dataframe\">\n",
       "  <thead>\n",
       "    <tr style=\"text-align: right;\">\n",
       "      <th></th>\n",
       "      <th>cust_id</th>\n",
       "      <th>trans_date</th>\n",
       "      <th>tot_amount</th>\n",
       "      <th>tot_number</th>\n",
       "    </tr>\n",
       "  </thead>\n",
       "  <tbody>\n",
       "    <tr>\n",
       "      <th>0</th>\n",
       "      <td>20897469</td>\n",
       "      <td>26-Oct-14</td>\n",
       "      <td>226.5</td>\n",
       "      <td>3</td>\n",
       "    </tr>\n",
       "    <tr>\n",
       "      <th>1</th>\n",
       "      <td>8596362</td>\n",
       "      <td>9-Mar-15</td>\n",
       "      <td>96.0</td>\n",
       "      <td>1</td>\n",
       "    </tr>\n",
       "    <tr>\n",
       "      <th>2</th>\n",
       "      <td>21319463</td>\n",
       "      <td>16-Apr-15</td>\n",
       "      <td>30.1</td>\n",
       "      <td>1</td>\n",
       "    </tr>\n",
       "    <tr>\n",
       "      <th>3</th>\n",
       "      <td>7540825</td>\n",
       "      <td>16-Apr-15</td>\n",
       "      <td>34.5</td>\n",
       "      <td>1</td>\n",
       "    </tr>\n",
       "    <tr>\n",
       "      <th>4</th>\n",
       "      <td>14799757</td>\n",
       "      <td>4-May-15</td>\n",
       "      <td>191.0</td>\n",
       "      <td>1</td>\n",
       "    </tr>\n",
       "  </tbody>\n",
       "</table>\n",
       "</div>"
      ],
      "text/plain": [
       "    cust_id trans_date  tot_amount  tot_number\n",
       "0  20897469  26-Oct-14       226.5           3\n",
       "1   8596362   9-Mar-15        96.0           1\n",
       "2  21319463  16-Apr-15        30.1           1\n",
       "3   7540825  16-Apr-15        34.5           1\n",
       "4  14799757   4-May-15       191.0           1"
      ]
     },
     "execution_count": 8,
     "metadata": {},
     "output_type": "execute_result"
    }
   ],
   "source": []
  },
  {
   "cell_type": "code",
   "execution_count": null,
   "metadata": {
    "collapsed": true
   },
   "outputs": [],
   "source": [
    "aut_payment['trans_date'] = pd.to_datetime(aut_payment['trans_date'])\n",
    "aut_payment.rename(columns={'cust_id': 'custid', 'tot_number': 'tot_num'}, inplace=True)\n",
    "aut_payment.head()"
   ]
  },
  {
   "cell_type": "code",
   "execution_count": 9,
   "metadata": {},
   "outputs": [
    {
     "data": {
      "text/html": [
       "<div>\n",
       "<style>\n",
       "    .dataframe thead tr:only-child th {\n",
       "        text-align: right;\n",
       "    }\n",
       "\n",
       "    .dataframe thead th {\n",
       "        text-align: left;\n",
       "    }\n",
       "\n",
       "    .dataframe tbody tr th {\n",
       "        vertical-align: top;\n",
       "    }\n",
       "</style>\n",
       "<table border=\"1\" class=\"dataframe\">\n",
       "  <thead>\n",
       "    <tr style=\"text-align: right;\">\n",
       "      <th></th>\n",
       "      <th>custid</th>\n",
       "      <th>gender</th>\n",
       "      <th>marital</th>\n",
       "      <th>edustat</th>\n",
       "      <th>jobtype</th>\n",
       "      <th>income</th>\n",
       "      <th>age</th>\n",
       "      <th>inacfull</th>\n",
       "      <th>inacl1m</th>\n",
       "      <th>inacl2m</th>\n",
       "      <th>inacl3m</th>\n",
       "      <th>inac3m</th>\n",
       "      <th>trans_date</th>\n",
       "      <th>tot_amount</th>\n",
       "      <th>tot_num</th>\n",
       "    </tr>\n",
       "  </thead>\n",
       "  <tbody>\n",
       "    <tr>\n",
       "      <th>0</th>\n",
       "      <td>16650211</td>\n",
       "      <td>1</td>\n",
       "      <td>2</td>\n",
       "      <td>7</td>\n",
       "      <td>5</td>\n",
       "      <td>2000.0</td>\n",
       "      <td>31</td>\n",
       "      <td>0</td>\n",
       "      <td>0</td>\n",
       "      <td>0</td>\n",
       "      <td>0</td>\n",
       "      <td>0</td>\n",
       "      <td>2015-02-09</td>\n",
       "      <td>140.00</td>\n",
       "      <td>2</td>\n",
       "    </tr>\n",
       "    <tr>\n",
       "      <th>1</th>\n",
       "      <td>16650211</td>\n",
       "      <td>1</td>\n",
       "      <td>2</td>\n",
       "      <td>7</td>\n",
       "      <td>5</td>\n",
       "      <td>2000.0</td>\n",
       "      <td>31</td>\n",
       "      <td>0</td>\n",
       "      <td>0</td>\n",
       "      <td>0</td>\n",
       "      <td>0</td>\n",
       "      <td>0</td>\n",
       "      <td>2014-12-08</td>\n",
       "      <td>76.75</td>\n",
       "      <td>2</td>\n",
       "    </tr>\n",
       "    <tr>\n",
       "      <th>2</th>\n",
       "      <td>16650211</td>\n",
       "      <td>1</td>\n",
       "      <td>2</td>\n",
       "      <td>7</td>\n",
       "      <td>5</td>\n",
       "      <td>2000.0</td>\n",
       "      <td>31</td>\n",
       "      <td>0</td>\n",
       "      <td>0</td>\n",
       "      <td>0</td>\n",
       "      <td>0</td>\n",
       "      <td>0</td>\n",
       "      <td>2015-06-08</td>\n",
       "      <td>153.75</td>\n",
       "      <td>2</td>\n",
       "    </tr>\n",
       "    <tr>\n",
       "      <th>3</th>\n",
       "      <td>16650211</td>\n",
       "      <td>1</td>\n",
       "      <td>2</td>\n",
       "      <td>7</td>\n",
       "      <td>5</td>\n",
       "      <td>2000.0</td>\n",
       "      <td>31</td>\n",
       "      <td>0</td>\n",
       "      <td>0</td>\n",
       "      <td>0</td>\n",
       "      <td>0</td>\n",
       "      <td>0</td>\n",
       "      <td>2014-09-08</td>\n",
       "      <td>78.25</td>\n",
       "      <td>2</td>\n",
       "    </tr>\n",
       "    <tr>\n",
       "      <th>4</th>\n",
       "      <td>16650211</td>\n",
       "      <td>1</td>\n",
       "      <td>2</td>\n",
       "      <td>7</td>\n",
       "      <td>5</td>\n",
       "      <td>2000.0</td>\n",
       "      <td>31</td>\n",
       "      <td>0</td>\n",
       "      <td>0</td>\n",
       "      <td>0</td>\n",
       "      <td>0</td>\n",
       "      <td>0</td>\n",
       "      <td>2014-10-08</td>\n",
       "      <td>78.25</td>\n",
       "      <td>2</td>\n",
       "    </tr>\n",
       "  </tbody>\n",
       "</table>\n",
       "</div>"
      ],
      "text/plain": [
       "     custid gender marital edustat jobtype  income  age inacfull inacl1m  \\\n",
       "0  16650211      1       2       7       5  2000.0   31        0       0   \n",
       "1  16650211      1       2       7       5  2000.0   31        0       0   \n",
       "2  16650211      1       2       7       5  2000.0   31        0       0   \n",
       "3  16650211      1       2       7       5  2000.0   31        0       0   \n",
       "4  16650211      1       2       7       5  2000.0   31        0       0   \n",
       "\n",
       "  inacl2m inacl3m inac3m trans_date  tot_amount  tot_num  \n",
       "0       0       0      0 2015-02-09      140.00        2  \n",
       "1       0       0      0 2014-12-08       76.75        2  \n",
       "2       0       0      0 2015-06-08      153.75        2  \n",
       "3       0       0      0 2014-09-08       78.25        2  \n",
       "4       0       0      0 2014-10-08       78.25        2  "
      ]
     },
     "execution_count": 9,
     "metadata": {},
     "output_type": "execute_result"
    }
   ],
   "source": [
    "df_merged = pd.merge(cust_demog,aut_payment,on = 'custid', how = 'inner')\n",
    "df_merged.head(5)"
   ]
  },
  {
   "cell_type": "code",
   "execution_count": 16,
   "metadata": {},
   "outputs": [
    {
     "name": "stderr",
     "output_type": "stream",
     "text": [
      "/home/rna1/anaconda2/lib/python2.7/site-packages/sklearn/cross_validation.py:41: DeprecationWarning: This module was deprecated in version 0.18 in favor of the model_selection module into which all the refactored classes and functions are moved. Also note that the interface of the new CV iterators are different from that of this module. This module will be removed in 0.20.\n",
      "  \"This module will be removed in 0.20.\", DeprecationWarning)\n"
     ]
    }
   ],
   "source": [
    "# from sklearn.cross_validation import  cross_val_score\n",
    "# from sklearn.tree import export_graphviz"
   ]
  },
  {
   "cell_type": "code",
   "execution_count": 23,
   "metadata": {
    "scrolled": true
   },
   "outputs": [
    {
     "name": "stdout",
     "output_type": "stream",
     "text": [
      "[(3, 0.97722295674784587), (4, 0.97719990411869362), (5, 0.97715379141925618), (6, 0.97703853199165958), (7, 0.97696936666306988), (8, 0.97694631403391752), (9, 0.97662355118181998)]\n"
     ]
    },
    {
     "data": {
      "text/plain": [
       "DecisionTreeClassifier(class_weight=None, criterion='gini', max_depth=9,\n",
       "            max_features=None, max_leaf_nodes=None,\n",
       "            min_impurity_decrease=0.0, min_impurity_split=None,\n",
       "            min_samples_leaf=2, min_samples_split=2,\n",
       "            min_weight_fraction_leaf=0.0, presort=False, random_state=None,\n",
       "            splitter='best')"
      ]
     },
     "execution_count": 23,
     "metadata": {},
     "output_type": "execute_result"
    }
   ],
   "source": [
    "# from sklearn import tree\n",
    "# x = cust_demog.iloc[:,1:7]\n",
    "# y = cust_demog.inacfull\n",
    "# #x_train,x_test,y_train,y_test = cross_validation.train_test_split(x,y,test_size=0.3,random_state=0)\n",
    "\n",
    "# depth = []\n",
    "\n",
    "# for i in range(3,10):\n",
    "#     clf = tree.DecisionTreeClassifier(max_depth=i, min_samples_leaf =2)\n",
    "#     # Perform 7-fold cross validation \n",
    "#     scores = cross_val_score(estimator=clf, X=x, y=y, cv=7, n_jobs=2)\n",
    "#     depth.append((i,scores.mean()))\n",
    "# print(depth)\n",
    "# clf.fit(X_tr, y_tr)"
   ]
  },
  {
   "cell_type": "code",
   "execution_count": 26,
   "metadata": {
    "collapsed": true
   },
   "outputs": [],
   "source": [
    "X = cust_demog.iloc[:,1:7]\n",
    "y = cust_demog.inacfull\n",
    "\n",
    "X_train, X_test, y_train, y_test = train_test_split(X, y, train_size=0.7, random_state=1)"
   ]
  },
  {
   "cell_type": "code",
   "execution_count": 31,
   "metadata": {},
   "outputs": [
    {
     "data": {
      "text/plain": [
       "((43377, 6), (43377,), (30363, 6), (30363,), (13014,), (13014, 6))"
      ]
     },
     "execution_count": 31,
     "metadata": {},
     "output_type": "execute_result"
    }
   ],
   "source": [
    "X.shape, y.shape, X_train.shape, y_train.shape, y_test.shape, X_test.shape"
   ]
  },
  {
   "cell_type": "code",
   "execution_count": 25,
   "metadata": {},
   "outputs": [
    {
     "data": {
      "text/html": [
       "<div>\n",
       "<style>\n",
       "    .dataframe thead tr:only-child th {\n",
       "        text-align: right;\n",
       "    }\n",
       "\n",
       "    .dataframe thead th {\n",
       "        text-align: left;\n",
       "    }\n",
       "\n",
       "    .dataframe tbody tr th {\n",
       "        vertical-align: top;\n",
       "    }\n",
       "</style>\n",
       "<table border=\"1\" class=\"dataframe\">\n",
       "  <thead>\n",
       "    <tr style=\"text-align: right;\">\n",
       "      <th></th>\n",
       "      <th>Predicted Not churn</th>\n",
       "      <th>Predicted churn</th>\n",
       "    </tr>\n",
       "  </thead>\n",
       "  <tbody>\n",
       "    <tr>\n",
       "      <th>True Not churn</th>\n",
       "      <td>12728</td>\n",
       "      <td>6</td>\n",
       "    </tr>\n",
       "    <tr>\n",
       "      <th>True churn</th>\n",
       "      <td>280</td>\n",
       "      <td>0</td>\n",
       "    </tr>\n",
       "  </tbody>\n",
       "</table>\n",
       "</div>"
      ],
      "text/plain": [
       "                Predicted Not churn  Predicted churn\n",
       "True Not churn                12728                6\n",
       "True churn                      280                0"
      ]
     },
     "execution_count": 25,
     "metadata": {},
     "output_type": "execute_result"
    }
   ],
   "source": []
  },
  {
   "cell_type": "code",
   "execution_count": 139,
   "metadata": {},
   "outputs": [
    {
     "data": {
      "image/png": "[encoded data removed]",
      "text/plain": [
       "<matplotlib.figure.Figure at 0x7fb23c446e10>"
      ]
     },
     "metadata": {},
     "output_type": "display_data"
    }
   ],
   "source": [
    "cust_demog.income.groupby(cust_demog.gender).sum().plot(kind='pie')\n",
    "plt.axis('equal')\n",
    "labels = ['F = 0','M = 1']\n",
    "plt.legend(labels, loc=\"best\")\n",
    "plt.show()\n",
    "#0 is F, 1 is M"
   ]
  },
  {
   "cell_type": "code",
   "execution_count": 18,
   "metadata": {},
   "outputs": [
    {
     "data": {
      "image/png": "[encoded data removed]",
      "text/plain": [
       "<matplotlib.figure.Figure at 0x7fc3efd27710>"
      ]
     },
     "metadata": {},
     "output_type": "display_data"
    }
   ],
   "source": [
    "cust_demog.income.groupby(cust_demog.inacfull).sum().plot(kind='pie')\n",
    "plt.axis('equal')\n",
    "labels = ['nochurn = 0','churn = 1']\n",
    "plt.legend(labels, loc=\"best\")\n",
    "plt.show()"
   ]
  },
  {
   "cell_type": "code",
   "execution_count": 39,
   "metadata": {},
   "outputs": [
    {
     "data": {
      "text/plain": [
       "Text(0,0.5,u'income')"
      ]
     },
     "execution_count": 39,
     "metadata": {},
     "output_type": "execute_result"
    },
    {
     "data": {
      "image/png": "[encoded data removed]",
      "text/plain": [
       "<matplotlib.figure.Figure at 0x7fb23c535450>"
      ]
     },
     "metadata": {},
     "output_type": "display_data"
    }
   ],
   "source": [
    "fig = plt.figure()\n",
    "mpl.pyplot.scatter(cust_demog.inacfull, cust_demog.income)\n",
    "ax = fig.add_subplot(111)\n",
    "ax.set_xlabel('inacfull')\n",
    "ax.set_ylabel('income')plt.legend(patches, labels, loc=\"best\")\n"
   ]
  },
  {
   "cell_type": "code",
   "execution_count": 13,
   "metadata": {},
   "outputs": [
    {
     "data": {
      "text/plain": [
       "(category, dtype('int64'))"
      ]
     },
     "execution_count": 13,
     "metadata": {},
     "output_type": "execute_result"
    }
   ],
   "source": [
    "cust_demog.gender.dtypes, cust_demog.age.dtypes"
   ]
  },
  {
   "cell_type": "code",
   "execution_count": 119,
   "metadata": {},
   "outputs": [
    {
     "data": {
      "image/png": "[encoded data removed]",
      "text/plain": [
       "<matplotlib.figure.Figure at 0x7fd2fd696450>"
      ]
     },
     "metadata": {},
     "output_type": "display_data"
    }
   ],
   "source": [
    "#sns.regplot(x=\"age\", y=\"income\", data=cust_demog);\n",
    "#sns.lmplot(x=\"age\", y=\"income\", col=\"gender\", data=cust_demog,col_wrap=2, size=3, );\n",
    "sns.pairplot(cust_demog, x_vars=[\"age\"], y_vars=[\"income\"],\n",
    "             hue=\"inacfull\", size=3, aspect=1, kind=\"reg\");"
   ]
  },
  {
   "cell_type": "code",
   "execution_count": 22,
   "metadata": {},
   "outputs": [
    {
     "data": {
      "image/png": "[encoded data removed]",
      "text/plain": [
       "<matplotlib.figure.Figure at 0x7f1466714d90>"
      ]
     },
     "metadata": {},
     "output_type": "display_data"
    }
   ],
   "source": [
    "#select the inactive customers based on inacfull column\n",
    "inac_cust = cust_demog.loc[cust_demog['inacfull'] == 1]\n",
    "inac_cust.income.plot.hist(bins=20, facecolor='green')\n",
    "plt.xlabel('income')\n",
    "plt.show()"
   ]
  },
  {
   "cell_type": "code",
   "execution_count": 106,
   "metadata": {},
   "outputs": [
    {
     "ename": "NameError",
     "evalue": "name 'inac_cust' is not defined",
     "output_type": "error",
     "traceback": [
      "\u001b[0;31m---------------------------------------------------------------------------\u001b[0m",
      "\u001b[0;31mNameError\u001b[0m                                 Traceback (most recent call last)",
      "\u001b[0;32m<ipython-input-106-e940ed0c0f6e>\u001b[0m in \u001b[0;36m<module>\u001b[0;34m()\u001b[0m\n\u001b[0;32m----> 1\u001b[0;31m \u001b[0mmax\u001b[0m\u001b[0;34m(\u001b[0m\u001b[0minac_cust\u001b[0m\u001b[0;34m.\u001b[0m\u001b[0mincome\u001b[0m\u001b[0;34m)\u001b[0m\u001b[0;34m,\u001b[0m\u001b[0mmin\u001b[0m\u001b[0;34m(\u001b[0m\u001b[0minac_cust\u001b[0m\u001b[0;34m.\u001b[0m\u001b[0mincome\u001b[0m\u001b[0;34m)\u001b[0m\u001b[0;34m\u001b[0m\u001b[0m\n\u001b[0m",
      "\u001b[0;31mNameError\u001b[0m: name 'inac_cust' is not defined"
     ]
    }
   ],
   "source": [
    "max(inac_cust.income),min(inac_cust.income)"
   ]
  },
  {
   "cell_type": "code",
   "execution_count": 35,
   "metadata": {},
   "outputs": [
    {
     "data": {
      "text/html": [
       "<div>\n",
       "<style>\n",
       "    .dataframe thead tr:only-child th {\n",
       "        text-align: right;\n",
       "    }\n",
       "\n",
       "    .dataframe thead th {\n",
       "        text-align: left;\n",
       "    }\n",
       "\n",
       "    .dataframe tbody tr th {\n",
       "        vertical-align: top;\n",
       "    }\n",
       "</style>\n",
       "<table border=\"1\" class=\"dataframe\">\n",
       "  <thead>\n",
       "    <tr style=\"text-align: right;\">\n",
       "      <th></th>\n",
       "      <th>custid</th>\n",
       "      <th>date</th>\n",
       "      <th>trans_amount</th>\n",
       "    </tr>\n",
       "  </thead>\n",
       "  <tbody>\n",
       "    <tr>\n",
       "      <th>0</th>\n",
       "      <td>18651424</td>\n",
       "      <td>05MAY2015:17:00:58</td>\n",
       "      <td>510.0</td>\n",
       "    </tr>\n",
       "    <tr>\n",
       "      <th>1</th>\n",
       "      <td>12827129</td>\n",
       "      <td>22APR2015:16:11:21</td>\n",
       "      <td>200.0</td>\n",
       "    </tr>\n",
       "    <tr>\n",
       "      <th>2</th>\n",
       "      <td>6985183</td>\n",
       "      <td>23NOV2014:10:15:21</td>\n",
       "      <td>400.0</td>\n",
       "    </tr>\n",
       "    <tr>\n",
       "      <th>3</th>\n",
       "      <td>12832710</td>\n",
       "      <td>15JUN2015:11:10:41</td>\n",
       "      <td>2000.0</td>\n",
       "    </tr>\n",
       "    <tr>\n",
       "      <th>4</th>\n",
       "      <td>11988373</td>\n",
       "      <td>16JUL2014:18:54:48</td>\n",
       "      <td>250.0</td>\n",
       "    </tr>\n",
       "  </tbody>\n",
       "</table>\n",
       "</div>"
      ],
      "text/plain": [
       "     custid                date  trans_amount\n",
       "0  18651424  05MAY2015:17:00:58         510.0\n",
       "1  12827129  22APR2015:16:11:21         200.0\n",
       "2   6985183  23NOV2014:10:15:21         400.0\n",
       "3  12832710  15JUN2015:11:10:41        2000.0\n",
       "4  11988373  16JUL2014:18:54:48         250.0"
      ]
     },
     "execution_count": 35,
     "metadata": {},
     "output_type": "execute_result"
    }
   ],
   "source": [
    "atm = pd.read_csv('../data_churn1/atm.txt')\n",
    "columns = ['custid', 'date', 'trans_amount']\n",
    "atm_sub = pd.DataFrame(atm, columns=columns)\n",
    "atm_sub.head()"
   ]
  },
  {
   "cell_type": "code",
   "execution_count": 115,
   "metadata": {},
   "outputs": [
    {
     "data": {
      "text/html": [
       "<div>\n",
       "<style>\n",
       "    .dataframe thead tr:only-child th {\n",
       "        text-align: right;\n",
       "    }\n",
       "\n",
       "    .dataframe thead th {\n",
       "        text-align: left;\n",
       "    }\n",
       "\n",
       "    .dataframe tbody tr th {\n",
       "        vertical-align: top;\n",
       "    }\n",
       "</style>\n",
       "<table border=\"1\" class=\"dataframe\">\n",
       "  <thead>\n",
       "    <tr style=\"text-align: right;\">\n",
       "      <th></th>\n",
       "      <th>cust_id</th>\n",
       "      <th>call_date</th>\n",
       "      <th>cs_login_num</th>\n",
       "      <th>cs_trans_num</th>\n",
       "    </tr>\n",
       "  </thead>\n",
       "  <tbody>\n",
       "    <tr>\n",
       "      <th>0</th>\n",
       "      <td>1581413</td>\n",
       "      <td>31JUL2014:00:00:00</td>\n",
       "      <td>2</td>\n",
       "      <td>33</td>\n",
       "    </tr>\n",
       "    <tr>\n",
       "      <th>1</th>\n",
       "      <td>1605587</td>\n",
       "      <td>31JUL2014:00:00:00</td>\n",
       "      <td>1</td>\n",
       "      <td>25</td>\n",
       "    </tr>\n",
       "    <tr>\n",
       "      <th>2</th>\n",
       "      <td>1608485</td>\n",
       "      <td>31JUL2014:00:00:00</td>\n",
       "      <td>4</td>\n",
       "      <td>28</td>\n",
       "    </tr>\n",
       "    <tr>\n",
       "      <th>3</th>\n",
       "      <td>1629758</td>\n",
       "      <td>31JUL2014:00:00:00</td>\n",
       "      <td>1</td>\n",
       "      <td>10</td>\n",
       "    </tr>\n",
       "    <tr>\n",
       "      <th>4</th>\n",
       "      <td>1643155</td>\n",
       "      <td>31JUL2014:00:00:00</td>\n",
       "      <td>4</td>\n",
       "      <td>52</td>\n",
       "    </tr>\n",
       "  </tbody>\n",
       "</table>\n",
       "</div>"
      ],
      "text/plain": [
       "   cust_id           call_date  cs_login_num  cs_trans_num\n",
       "0  1581413  31JUL2014:00:00:00             2            33\n",
       "1  1605587  31JUL2014:00:00:00             1            25\n",
       "2  1608485  31JUL2014:00:00:00             4            28\n",
       "3  1629758  31JUL2014:00:00:00             1            10\n",
       "4  1643155  31JUL2014:00:00:00             4            52"
      ]
     },
     "execution_count": 115,
     "metadata": {},
     "output_type": "execute_result"
    }
   ],
   "source": [
    "#call center data\n",
    "cust_rel = pd.read_csv('../data_churn1/bank_rel.txt')\n"
   ]
  },
  {
   "cell_type": "code",
   "execution_count": 116,
   "metadata": {},
   "outputs": [
    {
     "data": {
      "text/plain": [
       "(165029, 4)"
      ]
     },
     "execution_count": 116,
     "metadata": {},
     "output_type": "execute_result"
    }
   ],
   "source": [
    "cust_rel.shape"
   ]
  },
  {
   "cell_type": "markdown",
   "metadata": {
    "collapsed": true
   },
   "source": []
  },
  {
   "cell_type": "code",
   "execution_count": 6,
   "metadata": {
    "collapsed": true
   },
   "outputs": [],
   "source": [
    "#cc_trans= pd.read_csv('../data_churn1/cc_trans.txt')\n",
    "#select the columns to be used\n",
    "columns = ['custid', 'trans_date', 'trans_amount', 'online_trans', 'trans_type']\n",
    "cc_trans = pd.DataFrame(df, columns=columns)\n",
    "joblib.dump(cc_trans, 'cc_trans.pkl') "
   ]
  },
  {
   "cell_type": "code",
   "execution_count": 59,
   "metadata": {},
   "outputs": [],
   "source": [
    "cc_trans['trans_date'] = pd.to_datetime(df['trans_date'])"
   ]
  },
  {
   "cell_type": "code",
   "execution_count": 72,
   "metadata": {},
   "outputs": [
    {
     "data": {
      "text/html": [
       "<div>\n",
       "<style>\n",
       "    .dataframe thead tr:only-child th {\n",
       "        text-align: right;\n",
       "    }\n",
       "\n",
       "    .dataframe thead th {\n",
       "        text-align: left;\n",
       "    }\n",
       "\n",
       "    .dataframe tbody tr th {\n",
       "        vertical-align: top;\n",
       "    }\n",
       "</style>\n",
       "<table border=\"1\" class=\"dataframe\">\n",
       "  <thead>\n",
       "    <tr style=\"text-align: right;\">\n",
       "      <th></th>\n",
       "      <th>custid</th>\n",
       "      <th>trans_date</th>\n",
       "      <th>trans_amount</th>\n",
       "      <th>online_trans</th>\n",
       "      <th>trans_type</th>\n",
       "    </tr>\n",
       "  </thead>\n",
       "  <tbody>\n",
       "    <tr>\n",
       "      <th>0</th>\n",
       "      <td>23686158</td>\n",
       "      <td>2014-07-10</td>\n",
       "      <td>12.00</td>\n",
       "      <td>0</td>\n",
       "      <td>AV</td>\n",
       "    </tr>\n",
       "    <tr>\n",
       "      <th>1</th>\n",
       "      <td>13546047</td>\n",
       "      <td>2014-06-07</td>\n",
       "      <td>35.38</td>\n",
       "      <td>0</td>\n",
       "      <td>AV</td>\n",
       "    </tr>\n",
       "    <tr>\n",
       "      <th>2</th>\n",
       "      <td>13653775</td>\n",
       "      <td>2014-10-08</td>\n",
       "      <td>2091.00</td>\n",
       "      <td>0</td>\n",
       "      <td>AV</td>\n",
       "    </tr>\n",
       "  </tbody>\n",
       "</table>\n",
       "</div>"
      ],
      "text/plain": [
       "     custid trans_date  trans_amount online_trans trans_type\n",
       "0  23686158 2014-07-10         12.00            0         AV\n",
       "1  13546047 2014-06-07         35.38            0         AV\n",
       "2  13653775 2014-10-08       2091.00            0         AV"
      ]
     },
     "execution_count": 72,
     "metadata": {},
     "output_type": "execute_result"
    }
   ],
   "source": [
    "cc_trans.head(3)"
   ]
  },
  {
   "cell_type": "code",
   "execution_count": 98,
   "metadata": {
    "collapsed": true
   },
   "outputs": [],
   "source": [
    "columns = ['custid', 'trans_date', 'trans_amount', 'online_trans']\n",
    "cc_tr = pd.DataFrame(df, columns=columns)"
   ]
  },
  {
   "cell_type": "code",
   "execution_count": 103,
   "metadata": {
    "collapsed": true
   },
   "outputs": [],
   "source": [
    "cc_tr[\"online_trans\"] = cc_tr[\"online_trans\"].astype('category') "
   ]
  },
  {
   "cell_type": "code",
   "execution_count": 104,
   "metadata": {},
   "outputs": [
    {
     "data": {
      "text/plain": [
       "['cc_trans3.pkl']"
      ]
     },
     "execution_count": 104,
     "metadata": {},
     "output_type": "execute_result"
    }
   ],
   "source": [
    "joblib.dump(cc_tr, 'cc_trans3.pkl') \n",
    "# use cc_trans3.pkl for analysis and prediction"
   ]
  },
  {
   "cell_type": "code",
   "execution_count": 105,
   "metadata": {},
   "outputs": [
    {
     "data": {
      "text/plain": [
       "custid             int64\n",
       "trans_date        object\n",
       "trans_amount     float64\n",
       "online_trans    category\n",
       "dtype: object"
      ]
     },
     "execution_count": 105,
     "metadata": {},
     "output_type": "execute_result"
    }
   ],
   "source": [
    "cc_tr.dtypes"
   ]
  }
 ],
 "metadata": {
  "kernelspec": {
   "display_name": "Python [conda env:myprojects_env]",
   "language": "python",
   "name": "conda-env-myprojects_env-py"
  },
  "language_info": {
   "codemirror_mode": {
    "name": "ipython",
    "version": 2
   },
   "file_extension": ".py",
   "mimetype": "text/x-python",
   "name": "python",
   "nbconvert_exporter": "python",
   "pygments_lexer": "ipython2",
   "version": "2.7.14"
  }
 },
 "nbformat": 4,
 "nbformat_minor": 2
}
